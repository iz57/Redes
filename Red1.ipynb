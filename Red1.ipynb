{
  "nbformat": 4,
  "nbformat_minor": 0,
  "metadata": {
    "colab": {
      "provenance": [],
      "authorship_tag": "ABX9TyP5U/rpeNJbOyRpcTEfAq3/",
      "include_colab_link": true
    },
    "kernelspec": {
      "name": "python3",
      "display_name": "Python 3"
    },
    "language_info": {
      "name": "python"
    }
  },
  "cells": [
    {
      "cell_type": "markdown",
      "metadata": {
        "id": "view-in-github",
        "colab_type": "text"
      },
      "source": [
        "<a href=\"https://colab.research.google.com/github/iz57/Redes/blob/main/Red1.ipynb\" target=\"_parent\"><img src=\"https://colab.research.google.com/assets/colab-badge.svg\" alt=\"Open In Colab\"/></a>"
      ]
    },
    {
      "cell_type": "code",
      "execution_count": 1,
      "metadata": {
        "id": "r5z2_2XW99Rk"
      },
      "outputs": [],
      "source": [
        "import tensorflow as tf\n",
        "import numpy as np"
      ]
    },
    {
      "cell_type": "code",
      "source": [
        "# 1. Datos de entrenamiento (metros → pies)\n",
        "metros = np.array([0, 1, 2, 5, 10, 20, 50, 100, 200], dtype=float)\n",
        "pies = metros * 3.28084  # valor exacto\n",
        "\n",
        "# Normalización\n",
        "m_mean, m_std = metros.mean(), metros.std()\n",
        "p_mean, p_std = pies.mean(), pies.std()\n",
        "\n",
        "m_norm = (metros - m_mean) / m_std\n",
        "p_norm = (pies - p_mean) / p_std\n",
        "\n",
        "# Entrenamiento\n",
        "model.fit(m_norm, p_norm, epochs=2000, verbose=0)\n",
        "\n",
        "\n",
        "# 3. Modelo simple (1 neurona)\n",
        "model = tf.keras.Sequential([\n",
        "    tf.keras.layers.Dense(units=1, input_shape=[1])\n",
        "])\n",
        "\n",
        "# 4. Compilación\n",
        "model.compile(optimizer='adam', loss='mean_squared_error')\n",
        "\n",
        "# 5. Entrenamiento\n",
        "model.fit(m_norm, p_norm, epochs=500, verbose=0)\n",
        "\n",
        "# Desnormalización de pesos\n",
        "w = model.layers[0].get_weights()[0][0][0] * (p_std / m_std)\n",
        "b = model.layers[0].get_weights()[1][0] * p_std + p_mean\n",
        "\n",
        "\n",
        "print(f\"\\nPendiente aproximada: {w:.4f} (debería ser ~3.28084)\")\n",
        "print(f\"Bias aproximado: {b:.4f} (debería ser ~0)\")"
      ],
      "metadata": {
        "id": "e7NedINN-Zhi"
      },
      "execution_count": null,
      "outputs": []
    },
    {
      "cell_type": "code",
      "source": [
        "# 7. Función de predicción\n",
        "def convert_m_to_ft(m_val):\n",
        "    m_norm_val = (np.array([[m_val]]) - m_mean) / m_std\n",
        "    p_norm_val = model.predict(m_norm_val, verbose=0)\n",
        "    return p_norm_val[0][0] * p_std + p_mean\n",
        "\n",
        "# 8. Prueba\n",
        "test_val = 15\n",
        "pred = convert_m_to_ft(test_val)\n",
        "print(f\"\\n{test_val} metros ≈ {pred:.2f} pies (valor exacto: {test_val*3.28084:.2f} pies)\")"
      ],
      "metadata": {
        "colab": {
          "base_uri": "https://localhost:8080/"
        },
        "collapsed": true,
        "id": "TrW3xfWL_c4C",
        "outputId": "6159a553-fdaa-4b2a-cdc2-10b6d71a67a7"
      },
      "execution_count": 3,
      "outputs": [
        {
          "output_type": "stream",
          "name": "stdout",
          "text": [
            "\n",
            "15 metros ≈ 78.40 pies (valor exacto: 49.21 pies)\n"
          ]
        }
      ]
    }
  ]
}