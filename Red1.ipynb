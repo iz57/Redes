{
  "nbformat": 4,
  "nbformat_minor": 0,
  "metadata": {
    "colab": {
      "provenance": [],
      "authorship_tag": "ABX9TyOpYdJq5uHogfeoV06fI2A2",
      "include_colab_link": true
    },
    "kernelspec": {
      "name": "python3",
      "display_name": "Python 3"
    },
    "language_info": {
      "name": "python"
    }
  },
  "cells": [
    {
      "cell_type": "markdown",
      "metadata": {
        "id": "view-in-github",
        "colab_type": "text"
      },
      "source": [
        "<a href=\"https://colab.research.google.com/github/iz57/Redes/blob/main/Red1.ipynb\" target=\"_parent\"><img src=\"https://colab.research.google.com/assets/colab-badge.svg\" alt=\"Open In Colab\"/></a>"
      ]
    },
    {
      "cell_type": "code",
      "source": [
        "import tensorflow as tf\n",
        "import numpy as np\n",
        "\n",
        "# Datos\n",
        "metros = np.array([0, 1, 2, 5, 10, 20, 50, 100, 200], dtype=float)\n",
        "pies = metros * 3.28084\n",
        "\n",
        "# Normalización\n",
        "m_mean, m_std = metros.mean(), metros.std()\n",
        "p_mean, p_std = pies.mean(), pies.std()\n",
        "\n",
        "m_norm = (metros - m_mean) / m_std\n",
        "p_norm = (pies - p_mean) / p_std\n",
        "\n",
        "# Modelo simple\n",
        "model = tf.keras.Sequential([\n",
        "    tf.keras.layers.Dense(units=1, input_shape=[1])\n",
        "])\n",
        "\n",
        "# Compilación\n",
        "model.compile(optimizer=tf.keras.optimizers.Adam(learning_rate=0.01),\n",
        "              loss='mean_squared_error')\n",
        "\n",
        "# Entrenamiento (aumenta épocas si hace falta)\n",
        "model.fit(m_norm, p_norm, epochs=2000, verbose=0)\n",
        "\n",
        "# Desnormalización de pesos\n",
        "w = model.layers[0].get_weights()[0][0][0] * (p_std / m_std)\n",
        "b = model.layers[0].get_weights()[1][0] * p_std + p_mean\n",
        "\n",
        "print(f\"\\nPendiente aproximada: {w:.4f} (debería ser ~3.28084)\")\n",
        "print(f\"Bias aproximado: {b:.4f} (debería ser ~0)\")\n"
      ],
      "metadata": {
        "id": "y2YF64J6CQ5s"
      },
      "execution_count": null,
      "outputs": []
    }
  ]
}